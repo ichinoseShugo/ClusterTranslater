{
 "cells": [
  {
   "cell_type": "markdown",
   "metadata": {},
   "source": [
    "# メインコード\n",
    "サーバサイドはこれを実行すればOK．"
   ]
  },
  {
   "cell_type": "code",
   "execution_count": null,
   "metadata": {
    "collapsed": true
   },
   "outputs": [],
   "source": [
    "from bottle import get, post, run, HTTPResponse\n",
    "import requests\n",
    "import csv\n",
    "import json"
   ]
  },
  {
   "cell_type": "markdown",
   "metadata": {},
   "source": [
    "## 便利な関数群\n",
    "各API部から共通で呼び出される機能をここにまとめています"
   ]
  },
  {
   "cell_type": "code",
   "execution_count": null,
   "metadata": {
    "collapsed": true
   },
   "outputs": [],
   "source": [
    "def csvreader(fileaddr = '../data/jk.csv'):\n",
    "    csvlist = []\n",
    "    with open(fileaddr, 'r') as f:\n",
    "        reader = csv.reader(f)\n",
    "        for row in reader:\n",
    "            csvlist.append((row[0],row[1]))\n",
    "    \n",
    "    return csvlist"
   ]
  },
  {
   "cell_type": "markdown",
   "metadata": {},
   "source": [
    "## Exchange\n",
    "文字列を変換して返すAPI群"
   ]
  },
  {
   "cell_type": "markdown",
   "metadata": {},
   "source": [
    "### exhangejk\n",
    "jk用語を共通語に変換する\n",
    "\n",
    "getメソッド\n",
    "パラメータ\n",
    "message : 変換元のメッセージ\n",
    "\n",
    "返り値\n",
    "appliction/json形式\n",
    "status  : ステータスコード\n",
    "message : 変換したメッセージ"
   ]
  },
  {
   "cell_type": "code",
   "execution_count": null,
   "metadata": {
    "collapsed": true
   },
   "outputs": [],
   "source": [
    "@get('/exchangejk/<message>')\n",
    "def hello2(message):\n",
    "    #message = 'そマ? テンサゲ～'\n",
    "    exchange_tapple = csvreader('../data/jk.csv')\n",
    "    for before, after in exchange_tapple:\n",
    "        message = message.replace(before, after)\n",
    "    \n",
    "    body = {\"status\": \"200\", \"message\": message}\n",
    "    r = HTTPResponse(status=200, body=body)\n",
    "    r.set_header(\"Content-Type\", \"application/json\")\n",
    "    return r"
   ]
  },
  {
   "cell_type": "markdown",
   "metadata": {},
   "source": [
    "### exhangeit\n",
    "it技術者が使う用語を共通語に変換する\n",
    "\n",
    "getメソッド\n",
    "パラメータ\n",
    "message : 変換元のメッセージ\n",
    "\n",
    "返り値\n",
    "appliction/json形式\n",
    "status  : ステータスコード\n",
    "message : 変換したメッセージ"
   ]
  },
  {
   "cell_type": "code",
   "execution_count": null,
   "metadata": {
    "collapsed": true
   },
   "outputs": [],
   "source": [
    "@get('/exchangeit/<message>')\n",
    "def hello2(message):\n",
    "    #message = 'オンスケでコミットできて幸せ'\n",
    "    exchange_tapple = csvreader('../data/it.csv')\n",
    "    for before, after in exchange_tapple:\n",
    "        message = message.replace(before, after)\n",
    "    \n",
    "    body = {\"status\": \"200\", \"message\": message}\n",
    "    r = HTTPResponse(status=200, body=body)\n",
    "    r.set_header(\"Content-Type\", \"application/json\")\n",
    "    return r"
   ]
  },
  {
   "cell_type": "markdown",
   "metadata": {},
   "source": [
    "## 実行\n",
    "以上のAPIをポート8080番で実行する"
   ]
  },
  {
   "cell_type": "code",
   "execution_count": null,
   "metadata": {},
   "outputs": [],
   "source": [
    "run(host='0.0.0.0', port=8080, debug=True)"
   ]
  },
  {
   "cell_type": "code",
   "execution_count": null,
   "metadata": {
    "collapsed": true
   },
   "outputs": [],
   "source": []
  }
 ],
 "metadata": {
  "kernelspec": {
   "display_name": "Python 3",
   "language": "python",
   "name": "python3"
  },
  "language_info": {
   "codemirror_mode": {
    "name": "ipython",
    "version": 3
   },
   "file_extension": ".py",
   "mimetype": "text/x-python",
   "name": "python",
   "nbconvert_exporter": "python",
   "pygments_lexer": "ipython3",
   "version": "3.6.2"
  }
 },
 "nbformat": 4,
 "nbformat_minor": 2
}
