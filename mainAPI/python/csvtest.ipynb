{
 "cells": [
  {
   "cell_type": "code",
   "execution_count": null,
   "metadata": {
    "collapsed": true
   },
   "outputs": [],
   "source": [
    "from bottle import route, run, HTTPResponse\n",
    "import requests\n",
    "import csv\n",
    "import json"
   ]
  },
  {
   "cell_type": "code",
   "execution_count": null,
   "metadata": {
    "collapsed": true
   },
   "outputs": [],
   "source": [
    "def csvreader(fileaddr = '../data/jk.csv'):\n",
    "    csvlist = []\n",
    "    with open(fileaddr, 'r') as f:\n",
    "        reader = csv.reader(f)\n",
    "        for row in reader:\n",
    "            csvlist.append((row[0],row[1]))\n",
    "    \n",
    "    return csvlist"
   ]
  },
  {
   "cell_type": "markdown",
   "metadata": {},
   "source": [
    "↓made by ikeda"
   ]
  },
  {
   "cell_type": "code",
   "execution_count": null,
   "metadata": {
    "collapsed": true
   },
   "outputs": [],
   "source": [
    "def csvreader_plus(fileaddr = '../data/jk.csv'):\n",
    "    csvlist = []\n",
    "    with open(fileaddr, 'r') as f:\n",
    "        reader = csv.reader(f)\n",
    "        for row in reader:\n",
    "            csvlist.append((row[0],row[1]))\n",
    "    \n",
    "    return csvlist"
   ]
  },
  {
   "cell_type": "markdown",
   "metadata": {},
   "source": [
    "↓find()関数で変換前のフレーズがあるか確認\n",
    "findは()ないの文字物が見つかれば何番目にあるかを返す\n",
    "見つからないと-1を返す"
   ]
  },
  {
   "cell_type": "code",
   "execution_count": null,
   "metadata": {
    "collapsed": true
   },
   "outputs": [],
   "source": [
    "@route('/exchangetest')\n",
    "def hello2():\n",
    "    find_phrase = {} #add\n",
    "    message = 'そマ? テンサゲ～'\n",
    "    exchange_tapple = csvreader()\n",
    "    for before, after in exchange_tapple:\n",
    "        #add\n",
    "        check_fp = message.find(before)\n",
    "        if check_fp > -1 :\n",
    "            find_phrase[before] = after\n",
    "            \n",
    "        message = message.replace(before, after)\n",
    "    \n",
    "    print(message)\n",
    "    body = {\"status\": \"OK\", \"message\": message, \"find_phrase\":find_phrase}\n",
    "    r = HTTPResponse(status=200, body=body)\n",
    "    r.set_header(\"Content-Type\", \"application/json\")\n",
    "    return r, find_phrase #add"
   ]
  },
  {
   "cell_type": "code",
   "execution_count": null,
   "metadata": {
    "collapsed": true
   },
   "outputs": [],
   "source": [
    "run(host='0.0.0.0', port=8080, debug=True)"
   ]
  },
  {
   "cell_type": "code",
   "execution_count": null,
   "metadata": {
    "collapsed": true
   },
   "outputs": [],
   "source": []
  }
 ],
 "metadata": {
  "kernelspec": {
   "display_name": "Python 3",
   "language": "python",
   "name": "python3"
  },
  "language_info": {
   "codemirror_mode": {
    "name": "ipython",
    "version": 3
   },
   "file_extension": ".py",
   "mimetype": "text/x-python",
   "name": "python",
   "nbconvert_exporter": "python",
   "pygments_lexer": "ipython3",
   "version": "3.6.2"
  }
 },
 "nbformat": 4,
 "nbformat_minor": 2
}
