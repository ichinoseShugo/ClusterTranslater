{
 "cells": [
  {
   "cell_type": "code",
   "execution_count": 1,
   "metadata": {
    "collapsed": true
   },
   "outputs": [],
   "source": [
    "from bottle import route, run, HTTPResponse\n",
    "import requests\n",
    "\n",
    "@route('/hello2')\n",
    "def hello2():\n",
    "    url = 'https://labs.goo.ne.jp/api/entity'\n",
    "    \n",
    "    app_id = '20436ef8b90b5fe37fb514a8babd638fd4c5c901052776c23f41d158b386ec4f'\n",
    "    request_id = 'ng-1706-test-1'\n",
    "    sentence = '私の名前は渡辺賢です。'\n",
    "    data = {\n",
    "        'app_id' : app_id,\n",
    "        'request_id' : request_id,\n",
    "        'sentence' : sentence\n",
    "    }\n",
    "    r = requests.post(url, data=data)\n",
    "    \n",
    "    return r.text\n"
   ]
  },
  {
   "cell_type": "code",
   "execution_count": null,
   "metadata": {},
   "outputs": [
    {
     "name": "stderr",
     "output_type": "stream",
     "text": [
      "Bottle v0.12.13 server starting up (using WSGIRefServer())...\n",
      "Listening on http://0.0.0.0:8080/\n",
      "Hit Ctrl-C to quit.\n",
      "\n",
      "183.74.193.16 - - [21/Oct/2017 05:43:22] \"GET /hello2 HTTP/1.1\" 200 63\n"
     ]
    }
   ],
   "source": [
    "run(host='0.0.0.0', port=8080, debug=True)"
   ]
  },
  {
   "cell_type": "code",
   "execution_count": null,
   "metadata": {
    "collapsed": true
   },
   "outputs": [],
   "source": []
  }
 ],
 "metadata": {
  "kernelspec": {
   "display_name": "Python 3",
   "language": "python",
   "name": "python3"
  },
  "language_info": {
   "codemirror_mode": {
    "name": "ipython",
    "version": 3
   },
   "file_extension": ".py",
   "mimetype": "text/x-python",
   "name": "python",
   "nbconvert_exporter": "python",
   "pygments_lexer": "ipython3",
   "version": "3.6.2"
  }
 },
 "nbformat": 4,
 "nbformat_minor": 2
}
