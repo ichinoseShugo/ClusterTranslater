{
 "cells": [
  {
   "cell_type": "code",
   "execution_count": null,
   "metadata": {},
   "outputs": [],
   "source": [
    "from bottle import get, post, run, HTTPResponse, request\n",
    "import json\n",
    "import urllib.parse\n",
    "\n",
    "def requestjsonstr2dic(data):\n",
    "    jsonstr = ''\n",
    "    for k,v in data.items():\n",
    "        jsonstr = k\n",
    "    print(jsonstr)\n",
    "    parse = urllib.parse.urlparse(jsonstr)\n",
    "    print(parse)\n",
    "    dictionary = json.loads(parse)\n",
    "    return dictionary\n",
    "\n",
    "@post('/connecttest/<message>')\n",
    "def connecttest(message):\n",
    "    print(message)\n",
    "    \n",
    "    body = {\"status\": \"200\", \"message\": message}\n",
    "    r = HTTPResponse(status=200, body=body)\n",
    "    r.set_header(\"Content-Type\", \"application/json\")\n",
    "    return r\n",
    "\n",
    "'''\n",
    "@post('/connecttest/')\n",
    "def connecttest():\n",
    "    data = request.forms\n",
    "    message = requestjsonstr2dic(data)\n",
    "    print(message['key'])\n",
    "    \n",
    "    body = {\"status\": \"200\", \"message\": message['key']}\n",
    "    r = HTTPResponse(status=200, body=body)\n",
    "    r.set_header(\"Content-Type\", \"application/json\")\n",
    "    return r\n",
    "'''\n",
    "\n",
    "run(host='0.0.0.0', port=8080, debug=True)"
   ]
  },
  {
   "cell_type": "code",
   "execution_count": null,
   "metadata": {
    "collapsed": true
   },
   "outputs": [],
   "source": []
  }
 ],
 "metadata": {
  "kernelspec": {
   "display_name": "Python 3",
   "language": "python",
   "name": "python3"
  },
  "language_info": {
   "codemirror_mode": {
    "name": "ipython",
    "version": 3
   },
   "file_extension": ".py",
   "mimetype": "text/x-python",
   "name": "python",
   "nbconvert_exporter": "python",
   "pygments_lexer": "ipython3",
   "version": "3.6.2"
  }
 },
 "nbformat": 4,
 "nbformat_minor": 2
}
