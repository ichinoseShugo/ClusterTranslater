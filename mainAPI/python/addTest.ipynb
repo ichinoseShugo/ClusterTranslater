{
 "cells": [
  {
   "cell_type": "code",
   "execution_count": null,
   "metadata": {
    "collapsed": true
   },
   "outputs": [],
   "source": [
    "from bottle import route, run, HTTPResponse\n",
    "import requests\n",
    "import csv\n",
    "import json\n",
    "import csvtest"
   ]
  },
  {
   "cell_type": "code",
   "execution_count": null,
   "metadata": {
    "collapsed": true
   },
   "outputs": [],
   "source": [
    "@route('/add')\n",
    "def addNewBocaburary(message):\n",
    "    #{\"request_id\":\"ng-1706-test-1\",\"ne_list\":[[\"渡辺賢\",\"PSN\"]]}\n",
    "    exchange_tapple = csvtest.csvreader()\n",
    "    for before, after in exchange_tapple:\n",
    "        message = message.replace(before, after)"
   ]
  }
 ],
 "metadata": {
  "kernelspec": {
   "display_name": "Python 3",
   "language": "python",
   "name": "python3"
  },
  "language_info": {
   "codemirror_mode": {
    "name": "ipython",
    "version": 3
   },
   "file_extension": ".py",
   "mimetype": "text/x-python",
   "name": "python",
   "nbconvert_exporter": "python",
   "pygments_lexer": "ipython3",
   "version": "3.6.2"
  }
 },
 "nbformat": 4,
 "nbformat_minor": 2
}
