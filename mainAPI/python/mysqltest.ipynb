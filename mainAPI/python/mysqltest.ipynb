{
 "cells": [
  {
   "cell_type": "code",
   "execution_count": null,
   "metadata": {
    "collapsed": true
   },
   "outputs": [],
   "source": [
    "from bottle import route, get, post, run, HTTPResponse, request\n",
    "import json\n",
    "import pymysql"
   ]
  },
  {
   "cell_type": "code",
   "execution_count": null,
   "metadata": {
    "collapsed": true
   },
   "outputs": [],
   "source": [
    "class UseMySQL:\n",
    "    def __init__(self,\n",
    "                 host='localhost', user='root', password='root',\n",
    "                 db='ng_1706', charset='utf8'):\n",
    "        self.connection = pymysql.connect(\n",
    "            host=host, user=user, passwd=password, db=db, charset=charset, cursorclass=pymysql.cursors.DictCursor)\n",
    "        cursor = self.connection.cursor()\n",
    "        sql = \"show tables like 'testtable'\"\n",
    "        numrows = cursor.execute(sql)\n",
    "        if numrows < 1:\n",
    "            sql = 'create table testtable(id int auto_increment, name varchar(20), primary key (id))'\n",
    "            cursor.execute(sql)\n",
    "            self.connection.commit()\n",
    "        \n",
    "    def get_testtable_by_id(self, id):\n",
    "        cursor = self.connection.cursor()\n",
    "        sql = 'select name from testtable where id = ' + id\n",
    "        print(sql)\n",
    "        cursor.execute(sql)\n",
    "        return cursor.fetchall()\n",
    "        \n",
    "    def insert_testtable(self, name):\n",
    "        cursor = self.connection.cursor()\n",
    "        sql = 'insert into testtable(name) value (\"' + name + '\")'\n",
    "        cursor.execute(sql)\n",
    "        self.connection.commit()\n",
    "        \n",
    "usemysql = UseMySQL()"
   ]
  },
  {
   "cell_type": "code",
   "execution_count": null,
   "metadata": {
    "collapsed": true
   },
   "outputs": [],
   "source": [
    "@get('/input/<message>')\n",
    "def inputtest(message):\n",
    "    usemysql.insert_testtable(message)\n",
    "    \n",
    "    body = {\"status\": \"200\", \"message\": message}\n",
    "    r = HTTPResponse(status=200, body=body)\n",
    "    r.set_header(\"Content-Type\", \"application/json\")\n",
    "    return r"
   ]
  },
  {
   "cell_type": "code",
   "execution_count": null,
   "metadata": {
    "collapsed": true
   },
   "outputs": [],
   "source": [
    "@get('/output/<id>')\n",
    "def inputtest(id):\n",
    "    result = usemysql.get_testtable_by_id(id)\n",
    "    \n",
    "    body = {\"status\": \"200\", \"message\": result}\n",
    "    r = HTTPResponse(status=200, body=body)\n",
    "    r.set_header(\"Content-Type\", \"application/json\")\n",
    "    return r"
   ]
  },
  {
   "cell_type": "code",
   "execution_count": null,
   "metadata": {
    "collapsed": true
   },
   "outputs": [],
   "source": [
    "run(host='0.0.0.0', port=8080, debug=True)"
   ]
  },
  {
   "cell_type": "code",
   "execution_count": null,
   "metadata": {
    "collapsed": true
   },
   "outputs": [],
   "source": []
  }
 ],
 "metadata": {
  "kernelspec": {
   "display_name": "Python 3",
   "language": "python",
   "name": "python3"
  },
  "language_info": {
   "codemirror_mode": {
    "name": "ipython",
    "version": 3
   },
   "file_extension": ".py",
   "mimetype": "text/x-python",
   "name": "python",
   "nbconvert_exporter": "python",
   "pygments_lexer": "ipython3",
   "version": "3.6.2"
  }
 },
 "nbformat": 4,
 "nbformat_minor": 2
}
