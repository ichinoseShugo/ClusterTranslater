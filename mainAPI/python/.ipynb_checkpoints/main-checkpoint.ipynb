{
 "cells": [
  {
   "cell_type": "markdown",
   "metadata": {},
   "source": [
    "# メインコード\n",
    "サーバサイドはこれを実行すればOK．"
   ]
  },
  {
   "cell_type": "code",
   "execution_count": null,
   "metadata": {
    "collapsed": true
   },
   "outputs": [],
   "source": [
    "from bottle import get, post, run, HTTPResponse\n",
    "import requests\n",
    "import csv\n",
    "import json\n",
    "import re\n",
    "import urllib.parse\n",
    "import pymysql"
   ]
  },
  {
   "cell_type": "code",
   "execution_count": null,
   "metadata": {
    "collapsed": true
   },
   "outputs": [],
   "source": [
    "class UseMySQL:\n",
    "    def __init__(self,\n",
    "                 host='localhost', user='root', password='root',\n",
    "                 db='ng_1706', charset='utf8'):\n",
    "        self.connection = pymysql.connect(\n",
    "            host=host, user=user, passwd=password, db=db, charset=charset, cursorclass=pymysql.cursors.DictCursor)\n",
    "        cursor = self.connection.cursor()\n",
    "        sql = \"show tables like 'find_phrase'\"\n",
    "        numrows = cursor.execute(sql)\n",
    "        if numrows < 1:\n",
    "            sql = 'create table find_phrase('\n",
    "            sql += 'before varchar(100), after varchar(100), pattern varchar(20), '\n",
    "            sql += 'create_at date default current_timestamp on update current_timestamp, primary key (before, after, pattern))'\n",
    "            cursor.execute(sql)\n",
    "            self.connection.commit()\n",
    "        \n",
    "    def get_from_find_phrase_by_date(self, date):\n",
    "        cursor = self.connection.cursor()\n",
    "        sql = 'select before, after from find_phrase where create_at = ' + date\n",
    "        print(sql)\n",
    "        cursor.execute(sql)\n",
    "        return cursor.fetchall()\n",
    "        \n",
    "    def insert_to_find_phrase(self, before, after, pattern):\n",
    "        cursor = self.connection.cursor()\n",
    "        sql = 'insert into find_phrase(before, after, pattern) value (\"' + before + '\", \"' + after + '\", \"' + pattern + '\")'\n",
    "        cursor.execute(sql)\n",
    "        self.connection.commit()\n",
    "        \n",
    "usemysql = UseMySQL()"
   ]
  },
  {
   "cell_type": "markdown",
   "metadata": {},
   "source": [
    "## 便利な関数群\n",
    "各API部から共通で呼び出される機能をここにまとめています"
   ]
  },
  {
   "cell_type": "code",
   "execution_count": null,
   "metadata": {
    "collapsed": true
   },
   "outputs": [],
   "source": [
    "def csvreader(fileaddr = '../data/jk.csv'):\n",
    "    csvlist = []\n",
    "    with open(fileaddr, 'r') as f:\n",
    "        reader = csv.reader(f)\n",
    "        for row in reader:\n",
    "            csvlist.append((row[0],row[1]))\n",
    "    \n",
    "    return csvlist"
   ]
  },
  {
   "cell_type": "code",
   "execution_count": null,
   "metadata": {
    "collapsed": true
   },
   "outputs": [],
   "source": [
    "def strextractor(string, pattern):\n",
    "    r = ''\n",
    "    matchOB = re.search(pattern , string)\n",
    "    if matchOB:\n",
    "        r = matchOB.group()\n",
    "    print(matchOB)\n",
    "    return r"
   ]
  },
  {
   "cell_type": "code",
   "execution_count": null,
   "metadata": {
    "collapsed": true
   },
   "outputs": [],
   "source": [
    "def requestjsonstr2dic(data):\n",
    "    jsonstr = ''\n",
    "    for k,v in data.items():\n",
    "        jsonstr = k\n",
    "    dictionary = json.loads(jsonstr)\n",
    "    return dictionary"
   ]
  },
  {
   "cell_type": "code",
   "execution_count": null,
   "metadata": {
    "collapsed": true
   },
   "outputs": [],
   "source": [
    "def exchange_common(message, exchange = 'jk', reverse = False):\n",
    "    find_phrase = {}\n",
    "    exchange_tapple = csvreader('../data/' + exchange + '.csv')\n",
    "    for x, y in exchange_tapple:\n",
    "        if reverse:\n",
    "            after = x\n",
    "            before = y\n",
    "        else:\n",
    "            before = x\n",
    "            after = y\n",
    "        check_fp = message.find(before)\n",
    "        if check_fp > -1 :\n",
    "            find_phrase[before] = after\n",
    "        message = message.replace(before, after)\n",
    "        \n",
    "    for before, after in find_phrase.items():\n",
    "        if reverse:\n",
    "            insert_to_find_phrase(after, before, exchange)\n",
    "        else:\n",
    "            insert_to_find_phrase(before, after, exchange)\n",
    "        \n",
    "    return message, find_phrase"
   ]
  },
  {
   "cell_type": "markdown",
   "metadata": {},
   "source": [
    "### phrasefromdate\n",
    "変換履歴を日時から取得する"
   ]
  },
  {
   "cell_type": "code",
   "execution_count": null,
   "metadata": {
    "collapsed": true
   },
   "outputs": [],
   "source": [
    "@post('/phrasefromdate/<year>/<month>/<day>')\n",
    "def phrasefromdate(year, month, day):\n",
    "    date = year + '-' + month + '-' + day\n",
    "    find_phrase = get_from_find_phrase_by_date(date)\n",
    "    \n",
    "    \n",
    "    body = {\"status\": \"200\", \"find_phrase\": find_phrase}\n",
    "    r = HTTPResponse(status=200, body=body)\n",
    "    r.set_header(\"Content-Type\", \"application/json\")\n",
    "    return r"
   ]
  },
  {
   "cell_type": "markdown",
   "metadata": {},
   "source": [
    "## Exchange\n",
    "文字列を変換して返すAPI群"
   ]
  },
  {
   "cell_type": "markdown",
   "metadata": {},
   "source": [
    "### exhangejk\n",
    "jk用語を共通語に変換する\n",
    "\n",
    "getメソッド\n",
    "パラメータ\n",
    "message : 変換元のメッセージ\n",
    "\n",
    "返り値\n",
    "appliction/json形式\n",
    "status  : ステータスコード\n",
    "message : 変換したメッセージ"
   ]
  },
  {
   "cell_type": "code",
   "execution_count": null,
   "metadata": {
    "collapsed": true
   },
   "outputs": [],
   "source": [
    "@post('/exchangejk/<message>')\n",
    "def p_exchangejk(message):\n",
    "    message, find_phrase = exchange_common(message, exchange = 'jk', reverse = False)\n",
    "    \n",
    "    body = {\"status\": \"200\", \"message\": message, \"find_phrase\": find_phrase}\n",
    "    r = HTTPResponse(status=200, body=body)\n",
    "    r.set_header(\"Content-Type\", \"application/json\")\n",
    "    return r"
   ]
  },
  {
   "cell_type": "code",
   "execution_count": null,
   "metadata": {
    "collapsed": true
   },
   "outputs": [],
   "source": [
    "@post('/reverse_exchangejk/<message>')\n",
    "def p_reverse_exchangejk(message):\n",
    "    message, find_phrase = exchange_common(message, exchange = 'jk', reverse = True)\n",
    "    \n",
    "    body = {\"status\": \"200\", \"message\": message, \"find_phrase\": find_phrase}\n",
    "    r = HTTPResponse(status=200, body=body)\n",
    "    r.set_header(\"Content-Type\", \"application/json\")\n",
    "    return r"
   ]
  },
  {
   "cell_type": "markdown",
   "metadata": {},
   "source": [
    "### exhangeit\n",
    "it技術者が使う用語を共通語に変換する\n",
    "\n",
    "getメソッド\n",
    "パラメータ\n",
    "message : 変換元のメッセージ\n",
    "\n",
    "返り値\n",
    "appliction/json形式\n",
    "status  : ステータスコード\n",
    "message : 変換したメッセージ"
   ]
  },
  {
   "cell_type": "code",
   "execution_count": null,
   "metadata": {
    "collapsed": true
   },
   "outputs": [],
   "source": [
    "@post('/exchangeit/<message>')\n",
    "def p_exchangeit(message):\n",
    "    message, find_phrase = exchange_common(message, exchange = 'it', reverse = False)\n",
    "    \n",
    "    body = {\"status\": \"200\", \"message\": message, \"find_phrase\": find_phrase}\n",
    "    r = HTTPResponse(status=200, body=body)\n",
    "    r.set_header(\"Content-Type\", \"application/json\")\n",
    "    return r"
   ]
  },
  {
   "cell_type": "code",
   "execution_count": null,
   "metadata": {
    "collapsed": true
   },
   "outputs": [],
   "source": [
    "@post('/reverse_exchangeit/<message>')\n",
    "def p_exchangeit(message):\n",
    "    message, find_phrase = exchange_common(message, exchange = 'it', reverse = True)\n",
    "    \n",
    "    body = {\"status\": \"200\", \"message\": message, \"find_phrase\": find_phrase}\n",
    "    r = HTTPResponse(status=200, body=body)\n",
    "    r.set_header(\"Content-Type\", \"application/json\")\n",
    "    return r"
   ]
  },
  {
   "cell_type": "markdown",
   "metadata": {},
   "source": [
    "## 実行\n",
    "以上のAPIをポート8080番で実行する"
   ]
  },
  {
   "cell_type": "code",
   "execution_count": null,
   "metadata": {},
   "outputs": [],
   "source": [
    "run(host='0.0.0.0', port=8080, debug=True)"
   ]
  },
  {
   "cell_type": "code",
   "execution_count": null,
   "metadata": {
    "collapsed": true
   },
   "outputs": [],
   "source": []
  }
 ],
 "metadata": {
  "kernelspec": {
   "display_name": "Python 3",
   "language": "python",
   "name": "python3"
  },
  "language_info": {
   "codemirror_mode": {
    "name": "ipython",
    "version": 3
   },
   "file_extension": ".py",
   "mimetype": "text/x-python",
   "name": "python",
   "nbconvert_exporter": "python",
   "pygments_lexer": "ipython3",
   "version": "3.6.2"
  }
 },
 "nbformat": 4,
 "nbformat_minor": 2
}
