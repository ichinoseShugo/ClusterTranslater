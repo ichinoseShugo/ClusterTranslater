{
 "cells": [
  {
   "cell_type": "code",
   "execution_count": null,
   "metadata": {
    "collapsed": true
   },
   "outputs": [],
   "source": [
    "from bottle import route, run, HTTPResponse\n",
    "import requests\n",
    "import csv\n",
    "import json\n",
    "import csvtest"
   ]
  },
  {
   "cell_type": "code",
   "execution_count": null,
   "metadata": {
    "collapsed": true
   },
   "outputs": [],
   "source": [
    "def record_new(filename,new_vocab,new_mean):\n",
    "    with open(filename,'a') as w:\n",
    "        w.write(new_vocab+\",\"+new_mean)"
   ]
  },
  {
   "cell_type": "code",
   "execution_count": 1,
   "metadata": {},
   "outputs": [
    {
     "ename": "SyntaxError",
     "evalue": "invalid syntax (<ipython-input-1-425b465bd82b>, line 10)",
     "output_type": "error",
     "traceback": [
      "\u001b[0;36m  File \u001b[0;32m\"<ipython-input-1-425b465bd82b>\"\u001b[0;36m, line \u001b[0;32m10\u001b[0m\n\u001b[0;31m    if num = 0:\u001b[0m\n\u001b[0m           ^\u001b[0m\n\u001b[0;31mSyntaxError\u001b[0m\u001b[0;31m:\u001b[0m invalid syntax\n"
     ]
    }
   ],
   "source": [
    "@route('/add/')\n",
    "def addNewBocaburary(new_vocab = \"バイブス\",new_mean = \"雰囲気\"):\n",
    "    #{\"request_id\":\"ng-1706-test-1\",\"ne_list\":[[\"渡辺賢\",\"PSN\"]]}\n",
    "    num = 0\n",
    "    exist = False\n",
    "    exchange_tapple = csvtest.csvreader()\n",
    "    for before, after in exchange_tapple:\n",
    "        if before == new_vocab :\n",
    "            exist = True\n",
    "    if not exist :\n",
    "        if num = 0:\n",
    "            record_new( '../data/jk.csv',new_vocab,new_mean)\n",
    "        elif num = 1:\n",
    "            record_new( '../data/it.csv',new_vocab,new_mean)\n",
    "            \n",
    "        "
   ]
  },
  {
   "cell_type": "code",
   "execution_count": null,
   "metadata": {
    "collapsed": true
   },
   "outputs": [],
   "source": []
  }
 ],
 "metadata": {
  "kernelspec": {
   "display_name": "Python 3",
   "language": "python",
   "name": "python3"
  },
  "language_info": {
   "codemirror_mode": {
    "name": "ipython",
    "version": 3
   },
   "file_extension": ".py",
   "mimetype": "text/x-python",
   "name": "python",
   "nbconvert_exporter": "python",
   "pygments_lexer": "ipython3",
   "version": "3.6.2"
  }
 },
 "nbformat": 4,
 "nbformat_minor": 2
}
