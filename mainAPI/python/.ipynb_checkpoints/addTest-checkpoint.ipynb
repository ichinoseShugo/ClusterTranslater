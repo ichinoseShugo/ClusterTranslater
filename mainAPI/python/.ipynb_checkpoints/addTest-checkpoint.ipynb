{
 "cells": [
  {
   "cell_type": "code",
   "execution_count": null,
   "metadata": {
    "collapsed": true
   },
   "outputs": [],
   "source": [
    "from bottle import route, run, HTTPResponse\n",
    "import requests\n",
    "import csv\n",
    "import json\n",
    "import csvtest"
   ]
  },
  {
   "cell_type": "code",
   "execution_count": null,
   "metadata": {
    "collapsed": true
   },
   "outputs": [],
   "source": [
    "def hello2(sentence):\n",
    "    url = 'https://labs.goo.ne.jp/api/entity'\n",
    "    \n",
    "    app_id = '20436ef8b90b5fe37fb514a8babd638fd4c5c901052776c23f41d158b386ec4f'\n",
    "    request_id = 'ng-1706-test-1'\n",
    "    #sentence = '私の名前は渡辺賢です。'\n",
    "    data = {\n",
    "        'app_id' : app_id,\n",
    "        'request_id' : request_id,\n",
    "        'sentence' : sentence\n",
    "    }\n",
    "    r = requests.post(url, data=data)\n",
    "    \n",
    "    return r.text"
   ]
  },
  {
   "cell_type": "code",
   "execution_count": null,
   "metadata": {
    "collapsed": true
   },
   "outputs": [],
   "source": [
    "@route('/add')\n",
    "def addNewBocaburary(message):\n",
    "    new_message = hello2(message)\n",
    "    exchange_tapple = csvtest.csvreader()\n",
    "    for before, after in exchange_tapple:\n",
    "        message = message.replace(before, after)"
   ]
  }
 ],
 "metadata": {
  "kernelspec": {
   "display_name": "Python 3",
   "language": "python",
   "name": "python3"
  },
  "language_info": {
   "codemirror_mode": {
    "name": "ipython",
    "version": 3
   },
   "file_extension": ".py",
   "mimetype": "text/x-python",
   "name": "python",
   "nbconvert_exporter": "python",
   "pygments_lexer": "ipython3",
   "version": "3.6.2"
  }
 },
 "nbformat": 4,
 "nbformat_minor": 2
}
